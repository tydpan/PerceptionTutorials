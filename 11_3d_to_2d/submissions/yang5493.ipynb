{
 "cells": [
  {
   "cell_type": "code",
   "execution_count": 76,
   "metadata": {},
   "outputs": [],
   "source": [
    "import numpy as np\n",
    "?import matplotlib.pyplot as plt\n",
    "import matplotlib.image as mpimg\n",
    "import cv2\n",
    "\n",
    "import plotly.express as px\n",
    "import plotly.graph_objects as go\n",
    "\n",
    "#import imageio\n"
   ]
  },
  {
   "cell_type": "code",
   "execution_count": 40,
   "metadata": {},
   "outputs": [
    {
     "name": "stdout",
     "output_type": "stream",
     "text": [
      "(123254, 4)\n"
     ]
    }
   ],
   "source": [
    "X1 = np.fromfile(\"/Users/yutingyang/github/PerceptionTutorials/11_3d_to_2d/velo.bin\", dtype=np.float32)\n",
    "\n",
    "X1 = X1.reshape((-1,4))\n",
    "X1 = X1[:,:-1]\n",
    "\n",
    "one_c = np.ones(X1.shape[0])\n",
    "X1 = np.c_[X1,one_c]\n",
    "#print(X1.shape)"
   ]
  },
  {
   "cell_type": "code",
   "execution_count": 77,
   "metadata": {},
   "outputs": [],
   "source": [
    "#im = imageio.imread('/Users/yutingyang/github/PerceptionTutorials/11_3d_to_2d/image.png')\n",
    "#img = cv2.imread('/Users/yutingyang/github/PerceptionTutorials/11_3d_to_2d/image.png')\n",
    "#cv2.imshow('image', img)\n",
    "\n",
    "im = plt.imread('/Users/yutingyang/github/PerceptionTutorials/11_3d_to_2d/image.png')\n",
    "#plt.imshow(img)"
   ]
  },
  {
   "cell_type": "code",
   "execution_count": 67,
   "metadata": {},
   "outputs": [
    {
     "name": "stdout",
     "output_type": "stream",
     "text": [
      "13\n",
      "13\n",
      "13\n",
      "13\n",
      "10\n",
      "13\n",
      "13\n",
      "(3, 4)\n",
      "(3, 3)\n"
     ]
    }
   ],
   "source": [
    "Tr_velo_to_cam_list = []\n",
    "R0_rect_list = []\n",
    "P2_list = []\n",
    "with open('/Users/yutingyang/github/PerceptionTutorials/11_3d_to_2d/calib.txt') as f:\n",
    "    for line in f:\n",
    "        lines = line.split() \n",
    "        print(len(lines))\n",
    "        if lines[0]=='Tr_velo_to_cam:':\n",
    "            Tr_velo_to_cam_list.append([float(i) for i in lines[1:]])\n",
    "        elif lines[0]=='R0_rect:':\n",
    "            R0_rect_list.append([float(i) for i in lines[1:]])\n",
    "        elif lines[0]=='P2:':\n",
    "            P2_list.append([float(i) for i in lines[1:]])\n",
    "\n",
    "Tr_velo_to_cam = np.array(Tr_velo_to_cam_list).reshape([3,4])\n",
    "R0_rect = np.array(R0_rect_list).reshape([3,3])\n",
    "P2 = np.array(P2_list).reshape([3,4])\n",
    "print(P2.shape)\n",
    "print(R0_rect.shape)"
   ]
  },
  {
   "cell_type": "code",
   "execution_count": 68,
   "metadata": {},
   "outputs": [
    {
     "name": "stdout",
     "output_type": "stream",
     "text": [
      "(4, 4)\n",
      "(4, 4)\n"
     ]
    }
   ],
   "source": [
    "a = np.array([0,0,0,1]).reshape([1,4])\n",
    "Tr_velo_to_cam = np.concatenate((Tr_velo_to_cam,a), axis=0)\n",
    "P2 = np.concatenate((P2,a), axis=0)\n",
    "\n",
    "print(Tr_velo_to_cam.shape)\n",
    "print(P2.shape)"
   ]
  },
  {
   "cell_type": "code",
   "execution_count": 69,
   "metadata": {},
   "outputs": [
    {
     "name": "stdout",
     "output_type": "stream",
     "text": [
      "(4, 4)\n"
     ]
    }
   ],
   "source": [
    "R0_rect = np.pad(R0_rect,((0, 1), (0, 1)), 'constant')\n",
    "R0_rect[3,3]=1\n",
    "R0_rect\n",
    "\n",
    "print(R0_rect.shape)"
   ]
  },
  {
   "cell_type": "code",
   "execution_count": 71,
   "metadata": {},
   "outputs": [
    {
     "data": {
      "text/plain": [
       "(123254, 3)"
      ]
     },
     "execution_count": 71,
     "metadata": {},
     "output_type": "execute_result"
    }
   ],
   "source": [
    " #X3 = P2 @ R0_rect @ Tr_velo_to_cam @ X1.\n",
    "X3 = P2 @ R0_rect @ Tr_velo_to_cam @ np.transpose(X1)\n",
    "X3 = np.transpose(X3)\n",
    "X3 = X3[:,:-1]\n",
    "X3.shape"
   ]
  },
  {
   "cell_type": "code",
   "execution_count": 73,
   "metadata": {},
   "outputs": [
    {
     "name": "stdout",
     "output_type": "stream",
     "text": [
      "[45344.58603843 11394.94659141    74.38710999]\n",
      "[609.57585315 153.18442392  74.38710999]\n"
     ]
    }
   ],
   "source": [
    "print(X3[0,:])\n",
    "for x3 in X3:\n",
    "    x3[0] = x3[0]/x3[2]\n",
    "    x3[1] = x3[1]/x3[2]\n",
    "    \n",
    "print(X3[0,:])"
   ]
  },
  {
   "cell_type": "code",
   "execution_count": 78,
   "metadata": {},
   "outputs": [
    {
     "ename": "AttributeError",
     "evalue": "'numpy.ndarray' object has no attribute 'height'",
     "output_type": "error",
     "traceback": [
      "\u001b[0;31m---------------------------------------------------------------------------\u001b[0m",
      "\u001b[0;31mAttributeError\u001b[0m                            Traceback (most recent call last)",
      "Cell \u001b[0;32mIn [78], line 2\u001b[0m\n\u001b[1;32m      1\u001b[0m px \u001b[38;5;241m=\u001b[39m \u001b[38;5;241m1\u001b[39m \u001b[38;5;241m/\u001b[39m plt\u001b[38;5;241m.\u001b[39mrcParams[\u001b[38;5;124m'\u001b[39m\u001b[38;5;124mfigure.dpi\u001b[39m\u001b[38;5;124m'\u001b[39m]  \u001b[38;5;66;03m# pixel in inches\u001b[39;00m\n\u001b[0;32m----> 2\u001b[0m h, w \u001b[38;5;241m=\u001b[39m \u001b[43mim\u001b[49m\u001b[38;5;241;43m.\u001b[39;49m\u001b[43mheight\u001b[49m, im\u001b[38;5;241m.\u001b[39mwidth\n\u001b[1;32m      3\u001b[0m fig, ax \u001b[38;5;241m=\u001b[39m plt\u001b[38;5;241m.\u001b[39msubplots(\u001b[38;5;241m1\u001b[39m, \u001b[38;5;241m1\u001b[39m, figsize\u001b[38;5;241m=\u001b[39m(w\u001b[38;5;241m*\u001b[39mpx, h\u001b[38;5;241m*\u001b[39mpx))\n\u001b[1;32m      4\u001b[0m ax\u001b[38;5;241m.\u001b[39mset_xlim([\u001b[38;5;241m0\u001b[39m, w])\n",
      "\u001b[0;31mAttributeError\u001b[0m: 'numpy.ndarray' object has no attribute 'height'"
     ]
    }
   ],
   "source": [
    "px = 1 / plt.rcParams['figure.dpi']  # pixel in inches\n",
    "h, w = im.height, im.width\n",
    "fig, ax = plt.subplots(1, 1, figsize=(w*px, h*px))\n",
    "ax.set_xlim([0, w])\n",
    "ax.set_ylim([h, 0])"
   ]
  },
  {
   "cell_type": "code",
   "execution_count": null,
   "metadata": {},
   "outputs": [],
   "source": []
  }
 ],
 "metadata": {
  "kernelspec": {
   "display_name": "Python 3",
   "language": "python",
   "name": "python3"
  },
  "language_info": {
   "codemirror_mode": {
    "name": "ipython",
    "version": 3
   },
   "file_extension": ".py",
   "mimetype": "text/x-python",
   "name": "python",
   "nbconvert_exporter": "python",
   "pygments_lexer": "ipython3",
   "version": "3.8.13"
  },
  "vscode": {
   "interpreter": {
    "hash": "0553d48d5c947e80eaca19108a322f30dc3a6eb9ae7718d5446cffded678c620"
   }
  }
 },
 "nbformat": 4,
 "nbformat_minor": 4
}
